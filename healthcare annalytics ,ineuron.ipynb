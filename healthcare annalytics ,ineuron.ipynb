{
 "cells": [
  {
   "cell_type": "markdown",
   "id": "cd6d1eac",
   "metadata": {},
   "source": [
    "### Healthcare Analytics - iNeuronInternship\n"
   ]
  },
  {
   "cell_type": "markdown",
   "id": "9150cc05",
   "metadata": {},
   "source": [
    "### IMPORTING LIBRARIES"
   ]
  },
  {
   "cell_type": "code",
   "execution_count": 1,
   "id": "f607a82e",
   "metadata": {},
   "outputs": [],
   "source": [
    "import numpy as np\n",
    "import pandas as pd\n",
    "import seaborn as sns\n",
    "import matplotlib.pyplot as plt\n",
    "sns.set_style('whitegrid')\n",
    "%matplotlib inline\n",
    "\n",
    "## Display all the columns of the dataframes\n",
    "pd.pandas.set_option('display.max_columns',None)"
   ]
  },
  {
   "cell_type": "code",
   "execution_count": 2,
   "id": "223efdc9",
   "metadata": {},
   "outputs": [],
   "source": [
    "df=pd.read_csv('heart_disease_dataset.csv')"
   ]
  },
  {
   "cell_type": "code",
   "execution_count": 3,
   "id": "09fad6c9",
   "metadata": {
    "scrolled": true
   },
   "outputs": [
    {
     "data": {
      "text/html": [
       "<div>\n",
       "<style scoped>\n",
       "    .dataframe tbody tr th:only-of-type {\n",
       "        vertical-align: middle;\n",
       "    }\n",
       "\n",
       "    .dataframe tbody tr th {\n",
       "        vertical-align: top;\n",
       "    }\n",
       "\n",
       "    .dataframe thead th {\n",
       "        text-align: right;\n",
       "    }\n",
       "</style>\n",
       "<table border=\"1\" class=\"dataframe\">\n",
       "  <thead>\n",
       "    <tr style=\"text-align: right;\">\n",
       "      <th></th>\n",
       "      <th>age</th>\n",
       "      <th>sex</th>\n",
       "      <th>cp</th>\n",
       "      <th>trestbps</th>\n",
       "      <th>chol</th>\n",
       "      <th>fbs</th>\n",
       "      <th>restecg</th>\n",
       "      <th>thalach</th>\n",
       "      <th>exang</th>\n",
       "      <th>oldpeak</th>\n",
       "      <th>slope</th>\n",
       "      <th>ca</th>\n",
       "      <th>thal</th>\n",
       "      <th>num</th>\n",
       "    </tr>\n",
       "  </thead>\n",
       "  <tbody>\n",
       "    <tr>\n",
       "      <th>0</th>\n",
       "      <td>63</td>\n",
       "      <td>1</td>\n",
       "      <td>1</td>\n",
       "      <td>145</td>\n",
       "      <td>233</td>\n",
       "      <td>1</td>\n",
       "      <td>2</td>\n",
       "      <td>150</td>\n",
       "      <td>0</td>\n",
       "      <td>2.3</td>\n",
       "      <td>3</td>\n",
       "      <td>0</td>\n",
       "      <td>6</td>\n",
       "      <td>0</td>\n",
       "    </tr>\n",
       "    <tr>\n",
       "      <th>1</th>\n",
       "      <td>67</td>\n",
       "      <td>1</td>\n",
       "      <td>4</td>\n",
       "      <td>160</td>\n",
       "      <td>286</td>\n",
       "      <td>0</td>\n",
       "      <td>2</td>\n",
       "      <td>108</td>\n",
       "      <td>1</td>\n",
       "      <td>1.5</td>\n",
       "      <td>2</td>\n",
       "      <td>3</td>\n",
       "      <td>3</td>\n",
       "      <td>1</td>\n",
       "    </tr>\n",
       "    <tr>\n",
       "      <th>2</th>\n",
       "      <td>67</td>\n",
       "      <td>1</td>\n",
       "      <td>4</td>\n",
       "      <td>120</td>\n",
       "      <td>229</td>\n",
       "      <td>0</td>\n",
       "      <td>2</td>\n",
       "      <td>129</td>\n",
       "      <td>1</td>\n",
       "      <td>2.6</td>\n",
       "      <td>2</td>\n",
       "      <td>2</td>\n",
       "      <td>7</td>\n",
       "      <td>1</td>\n",
       "    </tr>\n",
       "    <tr>\n",
       "      <th>3</th>\n",
       "      <td>37</td>\n",
       "      <td>1</td>\n",
       "      <td>3</td>\n",
       "      <td>130</td>\n",
       "      <td>250</td>\n",
       "      <td>0</td>\n",
       "      <td>0</td>\n",
       "      <td>187</td>\n",
       "      <td>0</td>\n",
       "      <td>3.5</td>\n",
       "      <td>3</td>\n",
       "      <td>0</td>\n",
       "      <td>3</td>\n",
       "      <td>0</td>\n",
       "    </tr>\n",
       "    <tr>\n",
       "      <th>4</th>\n",
       "      <td>41</td>\n",
       "      <td>0</td>\n",
       "      <td>2</td>\n",
       "      <td>130</td>\n",
       "      <td>204</td>\n",
       "      <td>0</td>\n",
       "      <td>2</td>\n",
       "      <td>172</td>\n",
       "      <td>0</td>\n",
       "      <td>1.4</td>\n",
       "      <td>1</td>\n",
       "      <td>0</td>\n",
       "      <td>3</td>\n",
       "      <td>0</td>\n",
       "    </tr>\n",
       "    <tr>\n",
       "      <th>...</th>\n",
       "      <td>...</td>\n",
       "      <td>...</td>\n",
       "      <td>...</td>\n",
       "      <td>...</td>\n",
       "      <td>...</td>\n",
       "      <td>...</td>\n",
       "      <td>...</td>\n",
       "      <td>...</td>\n",
       "      <td>...</td>\n",
       "      <td>...</td>\n",
       "      <td>...</td>\n",
       "      <td>...</td>\n",
       "      <td>...</td>\n",
       "      <td>...</td>\n",
       "    </tr>\n",
       "    <tr>\n",
       "      <th>298</th>\n",
       "      <td>45</td>\n",
       "      <td>1</td>\n",
       "      <td>1</td>\n",
       "      <td>110</td>\n",
       "      <td>264</td>\n",
       "      <td>0</td>\n",
       "      <td>0</td>\n",
       "      <td>132</td>\n",
       "      <td>0</td>\n",
       "      <td>1.2</td>\n",
       "      <td>2</td>\n",
       "      <td>0</td>\n",
       "      <td>7</td>\n",
       "      <td>1</td>\n",
       "    </tr>\n",
       "    <tr>\n",
       "      <th>299</th>\n",
       "      <td>68</td>\n",
       "      <td>1</td>\n",
       "      <td>4</td>\n",
       "      <td>144</td>\n",
       "      <td>193</td>\n",
       "      <td>1</td>\n",
       "      <td>0</td>\n",
       "      <td>141</td>\n",
       "      <td>0</td>\n",
       "      <td>3.4</td>\n",
       "      <td>2</td>\n",
       "      <td>2</td>\n",
       "      <td>7</td>\n",
       "      <td>1</td>\n",
       "    </tr>\n",
       "    <tr>\n",
       "      <th>300</th>\n",
       "      <td>57</td>\n",
       "      <td>1</td>\n",
       "      <td>4</td>\n",
       "      <td>130</td>\n",
       "      <td>131</td>\n",
       "      <td>0</td>\n",
       "      <td>0</td>\n",
       "      <td>115</td>\n",
       "      <td>1</td>\n",
       "      <td>1.2</td>\n",
       "      <td>2</td>\n",
       "      <td>1</td>\n",
       "      <td>7</td>\n",
       "      <td>1</td>\n",
       "    </tr>\n",
       "    <tr>\n",
       "      <th>301</th>\n",
       "      <td>57</td>\n",
       "      <td>0</td>\n",
       "      <td>2</td>\n",
       "      <td>130</td>\n",
       "      <td>236</td>\n",
       "      <td>0</td>\n",
       "      <td>2</td>\n",
       "      <td>174</td>\n",
       "      <td>0</td>\n",
       "      <td>0.0</td>\n",
       "      <td>2</td>\n",
       "      <td>1</td>\n",
       "      <td>3</td>\n",
       "      <td>1</td>\n",
       "    </tr>\n",
       "    <tr>\n",
       "      <th>302</th>\n",
       "      <td>38</td>\n",
       "      <td>1</td>\n",
       "      <td>3</td>\n",
       "      <td>138</td>\n",
       "      <td>175</td>\n",
       "      <td>0</td>\n",
       "      <td>0</td>\n",
       "      <td>173</td>\n",
       "      <td>0</td>\n",
       "      <td>0.0</td>\n",
       "      <td>1</td>\n",
       "      <td>-100000</td>\n",
       "      <td>3</td>\n",
       "      <td>0</td>\n",
       "    </tr>\n",
       "  </tbody>\n",
       "</table>\n",
       "<p>303 rows × 14 columns</p>\n",
       "</div>"
      ],
      "text/plain": [
       "     age  sex  cp  trestbps  chol  fbs  restecg  thalach  exang  oldpeak  \\\n",
       "0     63    1   1       145   233    1        2      150      0      2.3   \n",
       "1     67    1   4       160   286    0        2      108      1      1.5   \n",
       "2     67    1   4       120   229    0        2      129      1      2.6   \n",
       "3     37    1   3       130   250    0        0      187      0      3.5   \n",
       "4     41    0   2       130   204    0        2      172      0      1.4   \n",
       "..   ...  ...  ..       ...   ...  ...      ...      ...    ...      ...   \n",
       "298   45    1   1       110   264    0        0      132      0      1.2   \n",
       "299   68    1   4       144   193    1        0      141      0      3.4   \n",
       "300   57    1   4       130   131    0        0      115      1      1.2   \n",
       "301   57    0   2       130   236    0        2      174      0      0.0   \n",
       "302   38    1   3       138   175    0        0      173      0      0.0   \n",
       "\n",
       "     slope      ca  thal  num  \n",
       "0        3       0     6    0  \n",
       "1        2       3     3    1  \n",
       "2        2       2     7    1  \n",
       "3        3       0     3    0  \n",
       "4        1       0     3    0  \n",
       "..     ...     ...   ...  ...  \n",
       "298      2       0     7    1  \n",
       "299      2       2     7    1  \n",
       "300      2       1     7    1  \n",
       "301      2       1     3    1  \n",
       "302      1 -100000     3    0  \n",
       "\n",
       "[303 rows x 14 columns]"
      ]
     },
     "execution_count": 3,
     "metadata": {},
     "output_type": "execute_result"
    }
   ],
   "source": [
    "df"
   ]
  },
  {
   "cell_type": "code",
   "execution_count": 4,
   "id": "29967701",
   "metadata": {},
   "outputs": [
    {
     "data": {
      "text/plain": [
       "(303, 14)"
      ]
     },
     "execution_count": 4,
     "metadata": {},
     "output_type": "execute_result"
    }
   ],
   "source": [
    "df.shape"
   ]
  },
  {
   "cell_type": "code",
   "execution_count": 5,
   "id": "5c984b61",
   "metadata": {},
   "outputs": [
    {
     "data": {
      "text/plain": [
       "Index(['age', 'sex', 'cp', 'trestbps', 'chol', 'fbs', 'restecg', 'thalach',\n",
       "       'exang', 'oldpeak', 'slope', 'ca', 'thal', 'num'],\n",
       "      dtype='object')"
      ]
     },
     "execution_count": 5,
     "metadata": {},
     "output_type": "execute_result"
    }
   ],
   "source": [
    "df.columns"
   ]
  },
  {
   "cell_type": "markdown",
   "id": "f656940a",
   "metadata": {},
   "source": [
    "### Describing different features of dataset:"
   ]
  },
  {
   "cell_type": "raw",
   "id": "b28d27b5",
   "metadata": {},
   "source": [
    "\n",
    "  \n",
    "There are fourteen features in Dataset\n",
    "\n",
    "age (Age in years)\n",
    "sex : (1 = male, 0 = female)\n",
    "cp: (Chest Pain Type): [ 1: asymptomatic, 2: atypical angina, 3: non-anginal pain, 4: typical angina,]\n",
    "trestbps: (Resting Blood Pressure in mm/hg )\n",
    "chol: (Serum Cholesterol in mg/dl)\n",
    "fps (Fasting Blood Sugar > 120 mg/dl): [0 = no, 1 = yes]\n",
    "restecg1: (Resting ECG): [0: showing probable or definite left ventricular hypertrophy by Estes’ criteria, 1: normal, 2: having ST-T: wave abnormality]\n",
    "thalach: (maximum heart rate achieved)\n",
    "exang: (Exercise Induced Angina): [1 = yes, 0 = no]\n",
    "oldpeak: (ST depression induced by exercise relative to rest)\n",
    "slope: (the slope of the peak exercise ST segment): [0: downsloping; 1: flat; 2: upsloping]\n",
    "ca: [number of major vessels (0–3)\n",
    "thal : [1 = normal, 2 = fixed defect, 3 = reversible defect]\n",
    "num: [0 = disease, 1 = no disease]\n",
    "\n"
   ]
  },
  {
   "cell_type": "markdown",
   "id": "f032aba4",
   "metadata": {},
   "source": [
    "### Finding null values :"
   ]
  },
  {
   "cell_type": "code",
   "execution_count": 6,
   "id": "45454489",
   "metadata": {},
   "outputs": [
    {
     "data": {
      "text/plain": [
       "age         0\n",
       "sex         0\n",
       "cp          0\n",
       "trestbps    0\n",
       "chol        0\n",
       "fbs         0\n",
       "restecg     0\n",
       "thalach     0\n",
       "exang       0\n",
       "oldpeak     0\n",
       "slope       0\n",
       "ca          0\n",
       "thal        0\n",
       "num         0\n",
       "dtype: int64"
      ]
     },
     "execution_count": 6,
     "metadata": {},
     "output_type": "execute_result"
    }
   ],
   "source": [
    "df.isnull().sum()"
   ]
  },
  {
   "cell_type": "markdown",
   "id": "25539a73",
   "metadata": {},
   "source": [
    "### no null value found in the dataset"
   ]
  },
  {
   "cell_type": "raw",
   "id": "0dbc0783",
   "metadata": {},
   "source": [
    " "
   ]
  },
  {
   "cell_type": "markdown",
   "id": "2500b7e2",
   "metadata": {},
   "source": [
    "## Checking for duplicate values :"
   ]
  },
  {
   "cell_type": "code",
   "execution_count": 1,
   "id": "b33e47b8",
   "metadata": {
    "scrolled": true
   },
   "outputs": [
    {
     "ename": "NameError",
     "evalue": "name 'df' is not defined",
     "output_type": "error",
     "traceback": [
      "\u001b[1;31m---------------------------------------------------------------------------\u001b[0m",
      "\u001b[1;31mNameError\u001b[0m                                 Traceback (most recent call last)",
      "\u001b[1;32m~\\AppData\\Local\\Temp/ipykernel_11080/1611269664.py\u001b[0m in \u001b[0;36m<module>\u001b[1;34m\u001b[0m\n\u001b[1;32m----> 1\u001b[1;33m \u001b[0mduplicate\u001b[0m\u001b[1;33m=\u001b[0m\u001b[0mdf\u001b[0m\u001b[1;33m.\u001b[0m\u001b[0mduplicated\u001b[0m\u001b[1;33m(\u001b[0m\u001b[1;33m)\u001b[0m\u001b[1;33m.\u001b[0m\u001b[0msum\u001b[0m\u001b[1;33m(\u001b[0m\u001b[1;33m)\u001b[0m\u001b[1;33m\u001b[0m\u001b[1;33m\u001b[0m\u001b[0m\n\u001b[0m\u001b[0;32m      2\u001b[0m \u001b[1;32mif\u001b[0m \u001b[0mduplicate\u001b[0m\u001b[1;33m:\u001b[0m\u001b[1;33m\u001b[0m\u001b[1;33m\u001b[0m\u001b[0m\n\u001b[0;32m      3\u001b[0m     \u001b[0mprint\u001b[0m\u001b[1;33m(\u001b[0m\u001b[1;34m\"Duplicate rows are:{}\"\u001b[0m\u001b[1;33m.\u001b[0m\u001b[0mformat\u001b[0m\u001b[1;33m(\u001b[0m\u001b[0mduplicate\u001b[0m\u001b[1;33m)\u001b[0m\u001b[1;33m)\u001b[0m\u001b[1;33m\u001b[0m\u001b[1;33m\u001b[0m\u001b[0m\n\u001b[0;32m      4\u001b[0m \u001b[1;32melse\u001b[0m\u001b[1;33m:\u001b[0m\u001b[1;33m\u001b[0m\u001b[1;33m\u001b[0m\u001b[0m\n\u001b[0;32m      5\u001b[0m     \u001b[0mprint\u001b[0m\u001b[1;33m(\u001b[0m\u001b[1;34m\"No duplicate values\"\u001b[0m\u001b[1;33m)\u001b[0m\u001b[1;33m\u001b[0m\u001b[1;33m\u001b[0m\u001b[0m\n",
      "\u001b[1;31mNameError\u001b[0m: name 'df' is not defined"
     ]
    }
   ],
   "source": [
    "duplicate=df.duplicated().sum()\n",
    "if duplicate:\n",
    "    print(\"Duplicate rows are:{}\".format(duplicate))\n",
    "else:\n",
    "    print(\"No duplicate values\")"
   ]
  },
  {
   "cell_type": "markdown",
   "id": "97f0c95e",
   "metadata": {},
   "source": [
    "### No duplicate values found\n"
   ]
  },
  {
   "cell_type": "code",
   "execution_count": null,
   "id": "28104c9b",
   "metadata": {},
   "outputs": [],
   "source": []
  },
  {
   "cell_type": "markdown",
   "id": "abccd982",
   "metadata": {},
   "source": [
    "## Percentage of people having Heart Disease"
   ]
  },
  {
   "cell_type": "code",
   "execution_count": 8,
   "id": "ae5c617b",
   "metadata": {},
   "outputs": [
    {
     "data": {
      "text/plain": [
       "num\n",
       "0    164\n",
       "1    139\n",
       "dtype: int64"
      ]
     },
     "execution_count": 8,
     "metadata": {},
     "output_type": "execute_result"
    }
   ],
   "source": [
    "target=df.groupby('num').size()\n",
    "target"
   ]
  },
  {
   "cell_type": "markdown",
   "id": "69b75e1c",
   "metadata": {},
   "source": [
    "## Converting Numerical Data into Categorical Data\n",
    "\n"
   ]
  },
  {
   "cell_type": "code",
   "execution_count": 9,
   "id": "389bd0b5",
   "metadata": {},
   "outputs": [
    {
     "data": {
      "text/html": [
       "<div>\n",
       "<style scoped>\n",
       "    .dataframe tbody tr th:only-of-type {\n",
       "        vertical-align: middle;\n",
       "    }\n",
       "\n",
       "    .dataframe tbody tr th {\n",
       "        vertical-align: top;\n",
       "    }\n",
       "\n",
       "    .dataframe thead th {\n",
       "        text-align: right;\n",
       "    }\n",
       "</style>\n",
       "<table border=\"1\" class=\"dataframe\">\n",
       "  <thead>\n",
       "    <tr style=\"text-align: right;\">\n",
       "      <th></th>\n",
       "      <th>age</th>\n",
       "      <th>sex</th>\n",
       "      <th>cp</th>\n",
       "      <th>trestbps</th>\n",
       "      <th>chol</th>\n",
       "      <th>fbs</th>\n",
       "      <th>restecg</th>\n",
       "      <th>thalach</th>\n",
       "      <th>exang</th>\n",
       "      <th>oldpeak</th>\n",
       "      <th>slope</th>\n",
       "      <th>ca</th>\n",
       "      <th>thal</th>\n",
       "      <th>num</th>\n",
       "    </tr>\n",
       "  </thead>\n",
       "  <tbody>\n",
       "    <tr>\n",
       "      <th>0</th>\n",
       "      <td>63</td>\n",
       "      <td>Male</td>\n",
       "      <td>Typical_Angina</td>\n",
       "      <td>145</td>\n",
       "      <td>233</td>\n",
       "      <td>True</td>\n",
       "      <td>2</td>\n",
       "      <td>150</td>\n",
       "      <td>No</td>\n",
       "      <td>2.3</td>\n",
       "      <td>3</td>\n",
       "      <td>0</td>\n",
       "      <td>6</td>\n",
       "      <td>No_Disease</td>\n",
       "    </tr>\n",
       "    <tr>\n",
       "      <th>1</th>\n",
       "      <td>67</td>\n",
       "      <td>Male</td>\n",
       "      <td>Asymtomatic</td>\n",
       "      <td>160</td>\n",
       "      <td>286</td>\n",
       "      <td>False</td>\n",
       "      <td>2</td>\n",
       "      <td>108</td>\n",
       "      <td>Yes</td>\n",
       "      <td>1.5</td>\n",
       "      <td>2</td>\n",
       "      <td>3</td>\n",
       "      <td>Reversible Defect</td>\n",
       "      <td>Disease</td>\n",
       "    </tr>\n",
       "    <tr>\n",
       "      <th>2</th>\n",
       "      <td>67</td>\n",
       "      <td>Male</td>\n",
       "      <td>Asymtomatic</td>\n",
       "      <td>120</td>\n",
       "      <td>229</td>\n",
       "      <td>False</td>\n",
       "      <td>2</td>\n",
       "      <td>129</td>\n",
       "      <td>Yes</td>\n",
       "      <td>2.6</td>\n",
       "      <td>2</td>\n",
       "      <td>2</td>\n",
       "      <td>7</td>\n",
       "      <td>Disease</td>\n",
       "    </tr>\n",
       "    <tr>\n",
       "      <th>3</th>\n",
       "      <td>37</td>\n",
       "      <td>Male</td>\n",
       "      <td>Non-Anginal Pain</td>\n",
       "      <td>130</td>\n",
       "      <td>250</td>\n",
       "      <td>False</td>\n",
       "      <td>0</td>\n",
       "      <td>187</td>\n",
       "      <td>No</td>\n",
       "      <td>3.5</td>\n",
       "      <td>3</td>\n",
       "      <td>0</td>\n",
       "      <td>Reversible Defect</td>\n",
       "      <td>No_Disease</td>\n",
       "    </tr>\n",
       "    <tr>\n",
       "      <th>4</th>\n",
       "      <td>41</td>\n",
       "      <td>Female</td>\n",
       "      <td>Atypical_Angina</td>\n",
       "      <td>130</td>\n",
       "      <td>204</td>\n",
       "      <td>False</td>\n",
       "      <td>2</td>\n",
       "      <td>172</td>\n",
       "      <td>No</td>\n",
       "      <td>1.4</td>\n",
       "      <td>1</td>\n",
       "      <td>0</td>\n",
       "      <td>Reversible Defect</td>\n",
       "      <td>No_Disease</td>\n",
       "    </tr>\n",
       "  </tbody>\n",
       "</table>\n",
       "</div>"
      ],
      "text/plain": [
       "   age     sex                cp  trestbps  chol    fbs  restecg  thalach  \\\n",
       "0   63    Male    Typical_Angina       145   233   True        2      150   \n",
       "1   67    Male       Asymtomatic       160   286  False        2      108   \n",
       "2   67    Male       Asymtomatic       120   229  False        2      129   \n",
       "3   37    Male  Non-Anginal Pain       130   250  False        0      187   \n",
       "4   41  Female   Atypical_Angina       130   204  False        2      172   \n",
       "\n",
       "  exang  oldpeak  slope  ca               thal         num  \n",
       "0    No      2.3      3   0                  6  No_Disease  \n",
       "1   Yes      1.5      2   3  Reversible Defect     Disease  \n",
       "2   Yes      2.6      2   2                  7     Disease  \n",
       "3    No      3.5      3   0  Reversible Defect  No_Disease  \n",
       "4    No      1.4      1   0  Reversible Defect  No_Disease  "
      ]
     },
     "execution_count": 9,
     "metadata": {},
     "output_type": "execute_result"
    }
   ],
   "source": [
    "df['num']=df.num.replace({1:\"Disease\",0:\"No_Disease\"})\n",
    "df['sex']=df.sex.replace({1:\"Male\",0:\"Female\"})\n",
    "df['cp']=df.cp.replace({1:\"Typical_Angina\",2:\"Atypical_Angina\",3:\"Non-Anginal Pain\",4:\"Asymtomatic\"})\n",
    "df['fbs']=df.fbs.replace({1:\"True\",0:\"False\"})\n",
    "df['exang']=df.exang.replace({1:\"Yes\",0:\"No\"})\n",
    "df['thal']=df.thal.replace({1:\"Normal\",2:\"Fixed Dfect\",3:\"Reversible Defect\"})\n",
    "df.head()"
   ]
  },
  {
   "cell_type": "code",
   "execution_count": 10,
   "id": "2661e9e3",
   "metadata": {},
   "outputs": [
    {
     "data": {
      "text/plain": [
       "num\n",
       "Disease       139\n",
       "No_Disease    164\n",
       "dtype: int64"
      ]
     },
     "execution_count": 10,
     "metadata": {},
     "output_type": "execute_result"
    }
   ],
   "source": [
    "heart_disease=df.groupby('num').size()\n",
    "heart_disease"
   ]
  },
  {
   "cell_type": "code",
   "execution_count": 2,
   "id": "3756850d",
   "metadata": {},
   "outputs": [
    {
     "ename": "NameError",
     "evalue": "name 'plt' is not defined",
     "output_type": "error",
     "traceback": [
      "\u001b[1;31m---------------------------------------------------------------------------\u001b[0m",
      "\u001b[1;31mNameError\u001b[0m                                 Traceback (most recent call last)",
      "\u001b[1;32m~\\AppData\\Local\\Temp/ipykernel_11080/1000023234.py\u001b[0m in \u001b[0;36m<module>\u001b[1;34m\u001b[0m\n\u001b[1;32m----> 1\u001b[1;33m \u001b[0mplt\u001b[0m\u001b[1;33m.\u001b[0m\u001b[0mfigure\u001b[0m\u001b[1;33m(\u001b[0m\u001b[0mfigsize\u001b[0m\u001b[1;33m=\u001b[0m\u001b[1;33m(\u001b[0m\u001b[1;36m10\u001b[0m\u001b[1;33m,\u001b[0m\u001b[1;36m8\u001b[0m\u001b[1;33m)\u001b[0m\u001b[1;33m)\u001b[0m\u001b[1;33m\u001b[0m\u001b[1;33m\u001b[0m\u001b[0m\n\u001b[0m\u001b[0;32m      2\u001b[0m \u001b[0mplt\u001b[0m\u001b[1;33m.\u001b[0m\u001b[0mpie\u001b[0m\u001b[1;33m(\u001b[0m\u001b[0mheart_disease\u001b[0m\u001b[1;33m,\u001b[0m\u001b[0mlabels\u001b[0m\u001b[1;33m=\u001b[0m\u001b[1;33m[\u001b[0m\u001b[1;34m'Disease'\u001b[0m\u001b[1;33m,\u001b[0m\u001b[1;34m'No_Disease'\u001b[0m\u001b[1;33m]\u001b[0m\u001b[1;33m,\u001b[0m\u001b[0mautopct\u001b[0m\u001b[1;33m=\u001b[0m\u001b[1;34m'%0.0f%%'\u001b[0m \u001b[1;33m)\u001b[0m\u001b[1;33m\u001b[0m\u001b[1;33m\u001b[0m\u001b[0m\n\u001b[0;32m      3\u001b[0m \u001b[0mplt\u001b[0m\u001b[1;33m.\u001b[0m\u001b[0mtitle\u001b[0m\u001b[1;33m(\u001b[0m\u001b[1;34m'Percentage of people having heart disease'\u001b[0m\u001b[1;33m,\u001b[0m \u001b[0mfontsize\u001b[0m\u001b[1;33m=\u001b[0m\u001b[1;36m45\u001b[0m\u001b[1;33m)\u001b[0m\u001b[1;33m\u001b[0m\u001b[1;33m\u001b[0m\u001b[0m\n\u001b[0;32m      4\u001b[0m \u001b[0mplt\u001b[0m\u001b[1;33m.\u001b[0m\u001b[0mshow\u001b[0m\u001b[1;33m(\u001b[0m\u001b[1;33m)\u001b[0m\u001b[1;33m\u001b[0m\u001b[1;33m\u001b[0m\u001b[0m\n",
      "\u001b[1;31mNameError\u001b[0m: name 'plt' is not defined"
     ]
    }
   ],
   "source": [
    "plt.figure(figsize=(10,8))\n",
    "plt.pie(heart_disease,labels=['Disease','No_Disease'],autopct='%0.0f%%' )\n",
    "plt.title('Percentage of people having heart disease', fontsize=45)\n",
    "plt.show()"
   ]
  },
  {
   "cell_type": "markdown",
   "id": "23f8f0f5",
   "metadata": {},
   "source": [
    "### People suffering from heart disease constitutes 54% of the total population"
   ]
  },
  {
   "cell_type": "markdown",
   "id": "8cca1993",
   "metadata": {},
   "source": [
    "## Age Variable Distribution:\n"
   ]
  },
  {
   "cell_type": "code",
   "execution_count": 12,
   "id": "92480ef8",
   "metadata": {
    "scrolled": true
   },
   "outputs": [
    {
     "data": {
      "image/png": "[encoded data removed]",
      "text/plain": [
       "<Figure size 720x576 with 1 Axes>"
      ]
     },
     "metadata": {
      "needs_background": "light"
     },
     "output_type": "display_data"
    }
   ],
   "source": [
    "plt.figure(figsize=(10,8) )\n",
    "sns.countplot(x='age',data= df)\n",
    "plt.title('Age Distribution',fontsize=16)\n",
    "plt.xlabel('Age',fontsize=12)\n",
    "plt.ylabel('Count',fontsize=12)\n",
    "plt.show()\n"
   ]
  },
  {
   "cell_type": "markdown",
   "id": "f69bb06b",
   "metadata": {},
   "source": [
    "### *Most of the patients are in the age group 50-60.\n",
    "\n",
    "### *For better understanding and meaningful analysis we will divide the age into 3 different categories:\n",
    "\n",
    "### 1.Young\n",
    "### 2.Middle_Aged\n",
    "### 3.Old_Aged"
   ]
  },
  {
   "cell_type": "code",
   "execution_count": 13,
   "id": "b9a71b45",
   "metadata": {},
   "outputs": [
    {
     "name": "stdout",
     "output_type": "stream",
     "text": [
      "Minimum Age: 29\n",
      "Maximum Age: 77\n",
      "Mean Age: 54.43894389438944\n"
     ]
    }
   ],
   "source": [
    "Min=df['age'].min()\n",
    "Max=df['age'].max()\n",
    "Mean_age=df['age'].mean()\n",
    "print('Minimum Age:',Min)\n",
    "print('Maximum Age:', Max)\n",
    "print('Mean Age:',Mean_age)\n"
   ]
  },
  {
   "cell_type": "code",
   "execution_count": null,
   "id": "f072d5b1",
   "metadata": {},
   "outputs": [],
   "source": []
  },
  {
   "cell_type": "code",
   "execution_count": 14,
   "id": "06f875f9",
   "metadata": {},
   "outputs": [
    {
     "name": "stdout",
     "output_type": "stream",
     "text": [
      "young: 15\n",
      "Middle_Aged: 128\n",
      "Elderly: 160\n"
     ]
    }
   ],
   "source": [
    "Young=df[(df['age']>=29) & (df['age']<40)]\n",
    "print(\"young:\",len(Young))\n",
    "Middle_Aged=df[(df['age']>=40) & (df['age']<55)]\n",
    "print('Middle_Aged:',len(Middle_Aged))\n",
    "Elderly_Aged=df[(df['age']>=55)]\n",
    "print(\"Elderly:\",len(Elderly_Aged))"
   ]
  },
  {
   "cell_type": "code",
   "execution_count": null,
   "id": "448ec0bc",
   "metadata": {},
   "outputs": [],
   "source": []
  },
  {
   "cell_type": "code",
   "execution_count": 15,
   "id": "89774b4d",
   "metadata": {},
   "outputs": [
    {
     "data": {
      "image/png": "[encoded data removed]",
      "text/plain": [
       "<Figure size 864x432 with 1 Axes>"
      ]
     },
     "metadata": {
      "needs_background": "light"
     },
     "output_type": "display_data"
    }
   ],
   "source": [
    "plt.figure(figsize=(12,6) )\n",
    "sns.barplot(x=['Young','Middle_Aged','Elderly_Aged'],y=[len(Young),len(Middle_Aged),len(Elderly_Aged)])\n",
    "plt.title('Age Category', fontsize=17)\n",
    "plt.xlabel('Age Range',fontsize=12)\n",
    "plt.ylabel('Count')\n",
    "plt.show()"
   ]
  },
  {
   "cell_type": "code",
   "execution_count": null,
   "id": "5cafb4c2",
   "metadata": {},
   "outputs": [],
   "source": []
  },
  {
   "cell_type": "markdown",
   "id": "7a40bdce",
   "metadata": {},
   "source": [
    "## Converting Numerical 'Age' Data into Categorical Data\n",
    "\n"
   ]
  },
  {
   "cell_type": "code",
   "execution_count": 16,
   "id": "f8950b60",
   "metadata": {},
   "outputs": [],
   "source": [
    "def Age_range(a):\n",
    "    if a>=29 and a<40:\n",
    "        return('YOUNG')\n",
    "    elif a>=40 and a<55:\n",
    "        return ('MIDDLE_AGED')\n",
    "    elif a>=55:\n",
    "        return ('ELDERLY_AGED')\n",
    " \n"
   ]
  },
  {
   "cell_type": "code",
   "execution_count": 17,
   "id": "fa6942fc",
   "metadata": {},
   "outputs": [],
   "source": [
    "df['Age_range']= df['age'].apply(Age_range)"
   ]
  },
  {
   "cell_type": "code",
   "execution_count": 18,
   "id": "87b5eb57",
   "metadata": {},
   "outputs": [
    {
     "data": {
      "text/html": [
       "<div>\n",
       "<style scoped>\n",
       "    .dataframe tbody tr th:only-of-type {\n",
       "        vertical-align: middle;\n",
       "    }\n",
       "\n",
       "    .dataframe tbody tr th {\n",
       "        vertical-align: top;\n",
       "    }\n",
       "\n",
       "    .dataframe thead th {\n",
       "        text-align: right;\n",
       "    }\n",
       "</style>\n",
       "<table border=\"1\" class=\"dataframe\">\n",
       "  <thead>\n",
       "    <tr style=\"text-align: right;\">\n",
       "      <th></th>\n",
       "      <th>age</th>\n",
       "      <th>sex</th>\n",
       "      <th>cp</th>\n",
       "      <th>trestbps</th>\n",
       "      <th>chol</th>\n",
       "      <th>fbs</th>\n",
       "      <th>restecg</th>\n",
       "      <th>thalach</th>\n",
       "      <th>exang</th>\n",
       "      <th>oldpeak</th>\n",
       "      <th>slope</th>\n",
       "      <th>ca</th>\n",
       "      <th>thal</th>\n",
       "      <th>num</th>\n",
       "      <th>Age_range</th>\n",
       "    </tr>\n",
       "  </thead>\n",
       "  <tbody>\n",
       "    <tr>\n",
       "      <th>0</th>\n",
       "      <td>63</td>\n",
       "      <td>Male</td>\n",
       "      <td>Typical_Angina</td>\n",
       "      <td>145</td>\n",
       "      <td>233</td>\n",
       "      <td>True</td>\n",
       "      <td>2</td>\n",
       "      <td>150</td>\n",
       "      <td>No</td>\n",
       "      <td>2.3</td>\n",
       "      <td>3</td>\n",
       "      <td>0</td>\n",
       "      <td>6</td>\n",
       "      <td>No_Disease</td>\n",
       "      <td>ELDERLY_AGED</td>\n",
       "    </tr>\n",
       "    <tr>\n",
       "      <th>1</th>\n",
       "      <td>67</td>\n",
       "      <td>Male</td>\n",
       "      <td>Asymtomatic</td>\n",
       "      <td>160</td>\n",
       "      <td>286</td>\n",
       "      <td>False</td>\n",
       "      <td>2</td>\n",
       "      <td>108</td>\n",
       "      <td>Yes</td>\n",
       "      <td>1.5</td>\n",
       "      <td>2</td>\n",
       "      <td>3</td>\n",
       "      <td>Reversible Defect</td>\n",
       "      <td>Disease</td>\n",
       "      <td>ELDERLY_AGED</td>\n",
       "    </tr>\n",
       "    <tr>\n",
       "      <th>2</th>\n",
       "      <td>67</td>\n",
       "      <td>Male</td>\n",
       "      <td>Asymtomatic</td>\n",
       "      <td>120</td>\n",
       "      <td>229</td>\n",
       "      <td>False</td>\n",
       "      <td>2</td>\n",
       "      <td>129</td>\n",
       "      <td>Yes</td>\n",
       "      <td>2.6</td>\n",
       "      <td>2</td>\n",
       "      <td>2</td>\n",
       "      <td>7</td>\n",
       "      <td>Disease</td>\n",
       "      <td>ELDERLY_AGED</td>\n",
       "    </tr>\n",
       "    <tr>\n",
       "      <th>3</th>\n",
       "      <td>37</td>\n",
       "      <td>Male</td>\n",
       "      <td>Non-Anginal Pain</td>\n",
       "      <td>130</td>\n",
       "      <td>250</td>\n",
       "      <td>False</td>\n",
       "      <td>0</td>\n",
       "      <td>187</td>\n",
       "      <td>No</td>\n",
       "      <td>3.5</td>\n",
       "      <td>3</td>\n",
       "      <td>0</td>\n",
       "      <td>Reversible Defect</td>\n",
       "      <td>No_Disease</td>\n",
       "      <td>YOUNG</td>\n",
       "    </tr>\n",
       "    <tr>\n",
       "      <th>4</th>\n",
       "      <td>41</td>\n",
       "      <td>Female</td>\n",
       "      <td>Atypical_Angina</td>\n",
       "      <td>130</td>\n",
       "      <td>204</td>\n",
       "      <td>False</td>\n",
       "      <td>2</td>\n",
       "      <td>172</td>\n",
       "      <td>No</td>\n",
       "      <td>1.4</td>\n",
       "      <td>1</td>\n",
       "      <td>0</td>\n",
       "      <td>Reversible Defect</td>\n",
       "      <td>No_Disease</td>\n",
       "      <td>MIDDLE_AGED</td>\n",
       "    </tr>\n",
       "    <tr>\n",
       "      <th>...</th>\n",
       "      <td>...</td>\n",
       "      <td>...</td>\n",
       "      <td>...</td>\n",
       "      <td>...</td>\n",
       "      <td>...</td>\n",
       "      <td>...</td>\n",
       "      <td>...</td>\n",
       "      <td>...</td>\n",
       "      <td>...</td>\n",
       "      <td>...</td>\n",
       "      <td>...</td>\n",
       "      <td>...</td>\n",
       "      <td>...</td>\n",
       "      <td>...</td>\n",
       "      <td>...</td>\n",
       "    </tr>\n",
       "    <tr>\n",
       "      <th>298</th>\n",
       "      <td>45</td>\n",
       "      <td>Male</td>\n",
       "      <td>Typical_Angina</td>\n",
       "      <td>110</td>\n",
       "      <td>264</td>\n",
       "      <td>False</td>\n",
       "      <td>0</td>\n",
       "      <td>132</td>\n",
       "      <td>No</td>\n",
       "      <td>1.2</td>\n",
       "      <td>2</td>\n",
       "      <td>0</td>\n",
       "      <td>7</td>\n",
       "      <td>Disease</td>\n",
       "      <td>MIDDLE_AGED</td>\n",
       "    </tr>\n",
       "    <tr>\n",
       "      <th>299</th>\n",
       "      <td>68</td>\n",
       "      <td>Male</td>\n",
       "      <td>Asymtomatic</td>\n",
       "      <td>144</td>\n",
       "      <td>193</td>\n",
       "      <td>True</td>\n",
       "      <td>0</td>\n",
       "      <td>141</td>\n",
       "      <td>No</td>\n",
       "      <td>3.4</td>\n",
       "      <td>2</td>\n",
       "      <td>2</td>\n",
       "      <td>7</td>\n",
       "      <td>Disease</td>\n",
       "      <td>ELDERLY_AGED</td>\n",
       "    </tr>\n",
       "    <tr>\n",
       "      <th>300</th>\n",
       "      <td>57</td>\n",
       "      <td>Male</td>\n",
       "      <td>Asymtomatic</td>\n",
       "      <td>130</td>\n",
       "      <td>131</td>\n",
       "      <td>False</td>\n",
       "      <td>0</td>\n",
       "      <td>115</td>\n",
       "      <td>Yes</td>\n",
       "      <td>1.2</td>\n",
       "      <td>2</td>\n",
       "      <td>1</td>\n",
       "      <td>7</td>\n",
       "      <td>Disease</td>\n",
       "      <td>ELDERLY_AGED</td>\n",
       "    </tr>\n",
       "    <tr>\n",
       "      <th>301</th>\n",
       "      <td>57</td>\n",
       "      <td>Female</td>\n",
       "      <td>Atypical_Angina</td>\n",
       "      <td>130</td>\n",
       "      <td>236</td>\n",
       "      <td>False</td>\n",
       "      <td>2</td>\n",
       "      <td>174</td>\n",
       "      <td>No</td>\n",
       "      <td>0.0</td>\n",
       "      <td>2</td>\n",
       "      <td>1</td>\n",
       "      <td>Reversible Defect</td>\n",
       "      <td>Disease</td>\n",
       "      <td>ELDERLY_AGED</td>\n",
       "    </tr>\n",
       "    <tr>\n",
       "      <th>302</th>\n",
       "      <td>38</td>\n",
       "      <td>Male</td>\n",
       "      <td>Non-Anginal Pain</td>\n",
       "      <td>138</td>\n",
       "      <td>175</td>\n",
       "      <td>False</td>\n",
       "      <td>0</td>\n",
       "      <td>173</td>\n",
       "      <td>No</td>\n",
       "      <td>0.0</td>\n",
       "      <td>1</td>\n",
       "      <td>-100000</td>\n",
       "      <td>Reversible Defect</td>\n",
       "      <td>No_Disease</td>\n",
       "      <td>YOUNG</td>\n",
       "    </tr>\n",
       "  </tbody>\n",
       "</table>\n",
       "<p>303 rows × 15 columns</p>\n",
       "</div>"
      ],
      "text/plain": [
       "     age     sex                cp  trestbps  chol    fbs  restecg  thalach  \\\n",
       "0     63    Male    Typical_Angina       145   233   True        2      150   \n",
       "1     67    Male       Asymtomatic       160   286  False        2      108   \n",
       "2     67    Male       Asymtomatic       120   229  False        2      129   \n",
       "3     37    Male  Non-Anginal Pain       130   250  False        0      187   \n",
       "4     41  Female   Atypical_Angina       130   204  False        2      172   \n",
       "..   ...     ...               ...       ...   ...    ...      ...      ...   \n",
       "298   45    Male    Typical_Angina       110   264  False        0      132   \n",
       "299   68    Male       Asymtomatic       144   193   True        0      141   \n",
       "300   57    Male       Asymtomatic       130   131  False        0      115   \n",
       "301   57  Female   Atypical_Angina       130   236  False        2      174   \n",
       "302   38    Male  Non-Anginal Pain       138   175  False        0      173   \n",
       "\n",
       "    exang  oldpeak  slope      ca               thal         num     Age_range  \n",
       "0      No      2.3      3       0                  6  No_Disease  ELDERLY_AGED  \n",
       "1     Yes      1.5      2       3  Reversible Defect     Disease  ELDERLY_AGED  \n",
       "2     Yes      2.6      2       2                  7     Disease  ELDERLY_AGED  \n",
       "3      No      3.5      3       0  Reversible Defect  No_Disease         YOUNG  \n",
       "4      No      1.4      1       0  Reversible Defect  No_Disease   MIDDLE_AGED  \n",
       "..    ...      ...    ...     ...                ...         ...           ...  \n",
       "298    No      1.2      2       0                  7     Disease   MIDDLE_AGED  \n",
       "299    No      3.4      2       2                  7     Disease  ELDERLY_AGED  \n",
       "300   Yes      1.2      2       1                  7     Disease  ELDERLY_AGED  \n",
       "301    No      0.0      2       1  Reversible Defect     Disease  ELDERLY_AGED  \n",
       "302    No      0.0      1 -100000  Reversible Defect  No_Disease         YOUNG  \n",
       "\n",
       "[303 rows x 15 columns]"
      ]
     },
     "execution_count": 18,
     "metadata": {},
     "output_type": "execute_result"
    }
   ],
   "source": [
    "df"
   ]
  },
  {
   "cell_type": "code",
   "execution_count": null,
   "id": "ca34efad",
   "metadata": {},
   "outputs": [],
   "source": []
  },
  {
   "cell_type": "markdown",
   "id": "140ec921",
   "metadata": {},
   "source": [
    "### Count Plot Creation of Heart Disease Based On Age Category using MatplotLib and Seaborn\n"
   ]
  },
  {
   "cell_type": "code",
   "execution_count": 19,
   "id": "5259a1df",
   "metadata": {},
   "outputs": [
    {
     "data": {
      "text/plain": [
       "<AxesSubplot:xlabel='num', ylabel='count'>"
      ]
     },
     "execution_count": 19,
     "metadata": {},
     "output_type": "execute_result"
    },
    {
     "data": {
      "image/png": "[encoded data removed]",
      "text/plain": [
       "<Figure size 720x576 with 1 Axes>"
      ]
     },
     "metadata": {
      "needs_background": "light"
     },
     "output_type": "display_data"
    }
   ],
   "source": [
    "plt.figure(figsize=(10,8))\n",
    "hue_order=['YOUNG','MIDDLE_AGED','ELDERLY_AGED']\n",
    "sns.countplot(x='num',hue='Age_range',data=df, hue_order=hue_order,palette='Reds')"
   ]
  },
  {
   "cell_type": "markdown",
   "id": "66425a3e",
   "metadata": {},
   "source": [
    "#### Middle Aged people are most affected by Heart Disease"
   ]
  },
  {
   "cell_type": "code",
   "execution_count": null,
   "id": "7174762b",
   "metadata": {},
   "outputs": [],
   "source": []
  },
  {
   "cell_type": "markdown",
   "id": "47c6294d",
   "metadata": {},
   "source": [
    "### Bar Plot Creation of Gender Based Age Category using MatplotLib and Seaborn\n",
    "\n"
   ]
  },
  {
   "cell_type": "code",
   "execution_count": 20,
   "id": "72f2e715",
   "metadata": {},
   "outputs": [
    {
     "data": {
      "image/png": "[encoded data removed]",
      "text/plain": [
       "<Figure size 720x576 with 1 Axes>"
      ]
     },
     "metadata": {
      "needs_background": "light"
     },
     "output_type": "display_data"
    }
   ],
   "source": [
    "plt.figure(figsize=(10,8))\n",
    "sns.barplot(x='Age_range',y='age',hue='sex',data=df, palette='GnBu')\n",
    "plt.title('Gender Based Age Category',fontsize=15)\n",
    "plt.xlabel('Age Categort',fontsize=12)\n",
    "plt.ylabel('Age',fontsize=12)\n",
    "plt.show()"
   ]
  },
  {
   "cell_type": "markdown",
   "id": "a3255252",
   "metadata": {},
   "source": [
    "#### In our dataset Males are more in Middle Age Category and Females are more in Elderly Age category\n"
   ]
  },
  {
   "cell_type": "markdown",
   "id": "1a8d252d",
   "metadata": {},
   "source": [
    "## Gender Distribution According to num Variable (dependent variable)\n"
   ]
  },
  {
   "cell_type": "code",
   "execution_count": 21,
   "id": "798a03d3",
   "metadata": {},
   "outputs": [
    {
     "data": {
      "text/plain": [
       "Text(0, 0.5, 'Count')"
      ]
     },
     "execution_count": 21,
     "metadata": {},
     "output_type": "execute_result"
    },
    {
     "data": {
      "image/png": "[encoded data removed]",
      "text/plain": [
       "<Figure size 432x288 with 1 Axes>"
      ]
     },
     "metadata": {
      "needs_background": "light"
     },
     "output_type": "display_data"
    }
   ],
   "source": [
    "# CountPlot Creation of Gender Based Age Category using MatplotLib and Seaborn\n",
    "\n",
    "sns.countplot(x='sex',hue='num',data=df,palette='PuRd_r')\n",
    "plt.title('Gender Distribution according to the Target', fontsize=15)\n",
    "plt.xlabel('Gender',fontsize=12)\n",
    "plt.ylabel('Count',fontsize=12)"
   ]
  },
  {
   "cell_type": "markdown",
   "id": "63566e0e",
   "metadata": {},
   "source": [
    "###### We can infer that among Male heart disease patients are higher than Female heart disease patients i.e. Males are more prone to heart diseases\n"
   ]
  },
  {
   "cell_type": "markdown",
   "id": "23eb4c89",
   "metadata": {},
   "source": [
    "## Chest Pain Distribution According to Target Variable\n"
   ]
  },
  {
   "cell_type": "code",
   "execution_count": 22,
   "id": "d07742af",
   "metadata": {},
   "outputs": [
    {
     "data": {
      "text/plain": [
       "Text(0, 0.5, 'Count')"
      ]
     },
     "execution_count": 22,
     "metadata": {},
     "output_type": "execute_result"
    },
    {
     "data": {
      "image/png": "[encoded data removed]",
      "text/plain": [
       "<Figure size 576x432 with 1 Axes>"
      ]
     },
     "metadata": {
      "needs_background": "light"
     },
     "output_type": "display_data"
    }
   ],
   "source": [
    "plt.figure(figsize=(8,6))\n",
    "sns.countplot(x='cp',hue='num',data=df,palette='Set1_r')\n",
    "plt.xlabel('Chest Pain ',fontsize=12)\n",
    "plt.ylabel('Count',fontsize=12)\n"
   ]
  },
  {
   "cell_type": "markdown",
   "id": "af1752cc",
   "metadata": {},
   "source": [
    "#### we can infer that  majority of the heart disease patients are Asymtomatic "
   ]
  },
  {
   "cell_type": "markdown",
   "id": "65abe8d4",
   "metadata": {},
   "source": [
    "### Count Plot Creation of Chest Pain Based On Gender using MatplotLib and Seaborn\n"
   ]
  },
  {
   "cell_type": "code",
   "execution_count": 23,
   "id": "97995367",
   "metadata": {},
   "outputs": [
    {
     "data": {
      "image/png": "[encoded data removed]",
      "text/plain": [
       "<Figure size 576x432 with 1 Axes>"
      ]
     },
     "metadata": {
      "needs_background": "light"
     },
     "output_type": "display_data"
    }
   ],
   "source": [
    "\n",
    "plt.figure(figsize=(8,6))\n",
    "sns.countplot(x='sex', hue='cp',data=df,palette='Spectral')\n",
    "plt.title('Chest Pain based on Gender',fontsize=15)\n",
    "plt.xlabel('Gender',fontsize=12)\n",
    "plt.ylabel('Counts',fontsize=12)\n",
    "plt.show()"
   ]
  },
  {
   "cell_type": "markdown",
   "id": "171cc882",
   "metadata": {},
   "source": [
    "#### we can infer that highest numbers of  patient are having asymtomatic condition followed by non-anginal chest pain  among both males and females."
   ]
  },
  {
   "cell_type": "markdown",
   "id": "afee22d0",
   "metadata": {},
   "source": [
    "### Count Plot Creation of Chest Pain Based On Age Category using MatplotLib and Seaborn :"
   ]
  },
  {
   "cell_type": "code",
   "execution_count": 24,
   "id": "aa93eb33",
   "metadata": {},
   "outputs": [
    {
     "data": {
      "image/png": "[encoded data removed]",
      "text/plain": [
       "<Figure size 576x432 with 1 Axes>"
      ]
     },
     "metadata": {
      "needs_background": "light"
     },
     "output_type": "display_data"
    }
   ],
   "source": [
    "plt.figure(figsize=(8,6))\n",
    "sns.countplot(x='Age_range', hue='cp', data=df, palette='BrBG')\n",
    "plt.title('Chest Pain Based On Age Category', fontsize=15)\n",
    "plt.xlabel('Age Range', fontsize=12)\n",
    "plt.ylabel('Counts', fontsize=12)\n",
    "plt.show()"
   ]
  },
  {
   "cell_type": "markdown",
   "id": "b3e39a89",
   "metadata": {},
   "source": [
    "#### We can infer that elder are more prone to asymtomatic heart disease condition while in middle aged group both asymtomatic and  non-anginal chest pain condition is prevalent."
   ]
  },
  {
   "cell_type": "markdown",
   "id": "b81d6a5f",
   "metadata": {},
   "source": [
    "## Blood Pressure"
   ]
  },
  {
   "cell_type": "markdown",
   "id": "7f7c4717",
   "metadata": {},
   "source": [
    "### Bar Plot Creation of Person's Resting Blood Pressure (mm Hg) using MatplotLib and Seaborn"
   ]
  },
  {
   "cell_type": "code",
   "execution_count": 25,
   "id": "9aec4c42",
   "metadata": {},
   "outputs": [
    {
     "data": {
      "text/plain": [
       "<Figure size 576x432 with 0 Axes>"
      ]
     },
     "metadata": {},
     "output_type": "display_data"
    },
    {
     "data": {
      "image/png": "[encoded data removed]",
      "text/plain": [
       "<Figure size 576x432 with 1 Axes>"
      ]
     },
     "metadata": {
      "needs_background": "light"
     },
     "output_type": "display_data"
    }
   ],
   "source": [
    "\n",
    "plt.figure(figsize=(8,6))\n",
    "plt.figure(figsize=(8,6))\n",
    "sns.barplot(x='sex', y=('trestbps'), data=df, palette='bwr')\n",
    "plt.title(\"Blood Pressure\", fontsize=15)\n",
    "plt.xlabel('Gender',fontsize=12)\n",
    "plt.ylabel(\"Resting Blood Pressure (mm Hg)\", fontsize=10)\n",
    "plt.show()"
   ]
  },
  {
   "cell_type": "markdown",
   "id": "62e83c80",
   "metadata": {},
   "source": [
    "#### Blood Pressure Levels are almost equal in both Males and Females"
   ]
  },
  {
   "cell_type": "markdown",
   "id": "52d0376b",
   "metadata": {},
   "source": [
    "### #Bar Plot Creation of Person's Resting Blood Pressure (mm Hg) using MatplotLib and Seaborn\n"
   ]
  },
  {
   "cell_type": "code",
   "execution_count": 26,
   "id": "b90a4bae",
   "metadata": {},
   "outputs": [
    {
     "data": {
      "image/png": "[encoded data removed]",
      "text/plain": [
       "<Figure size 576x432 with 1 Axes>"
      ]
     },
     "metadata": {
      "needs_background": "light"
     },
     "output_type": "display_data"
    }
   ],
   "source": [
    "\n",
    "\n",
    "plt.figure(figsize=(8,6))\n",
    "sns.barplot(x='num', y='trestbps', data=df, palette=(\"YlOrRd\") )\n",
    "plt.title('Blood Pressure VS Heart Disease', fontsize=15)\n",
    "plt.xlabel('Heart Disease', fontsize=12)\n",
    "plt.ylabel('Blood Pressure', fontsize=12)\n",
    "plt.show()"
   ]
  },
  {
   "cell_type": "markdown",
   "id": "c17da572",
   "metadata": {},
   "source": [
    "#### We can infer that blood pressure has no role in heart disease."
   ]
  },
  {
   "cell_type": "markdown",
   "id": "3348fcb8",
   "metadata": {},
   "source": [
    "### Line Plot Creation of Blood Pressure VS Age using MatplotLib and Seaborn"
   ]
  },
  {
   "cell_type": "code",
   "execution_count": 27,
   "id": "cbdcc9c5",
   "metadata": {},
   "outputs": [
    {
     "data": {
      "image/png": "[encoded data removed]",
      "text/plain": [
       "<Figure size 576x432 with 1 Axes>"
      ]
     },
     "metadata": {
      "needs_background": "light"
     },
     "output_type": "display_data"
    }
   ],
   "source": [
    "plt.figure(figsize=(8,6))\n",
    "sns.lineplot(x='age', y='trestbps', data=df, color='r')\n",
    "plt.title('Blood Pressure VS Age', fontsize=15)\n",
    "plt.xlabel('Age', fontsize=12)\n",
    "plt.ylabel('Blood Pressure', fontsize=12)\n",
    "plt.show()"
   ]
  },
  {
   "cell_type": "markdown",
   "id": "1506bfa2",
   "metadata": {},
   "source": [
    "#### We can infer that Blood Pressure Levels increase between age group 50-60 and continues till 70"
   ]
  },
  {
   "cell_type": "code",
   "execution_count": null,
   "id": "a41e3dd9",
   "metadata": {},
   "outputs": [],
   "source": []
  },
  {
   "cell_type": "markdown",
   "id": "e362b94b",
   "metadata": {},
   "source": [
    "## Cholestrol"
   ]
  },
  {
   "cell_type": "markdown",
   "id": "6b3a1750",
   "metadata": {},
   "source": [
    "### Bar Plot Creation of Cholestrol Level Based On Gender using MatplotLib and Seaborn"
   ]
  },
  {
   "cell_type": "code",
   "execution_count": 28,
   "id": "67be14b3",
   "metadata": {},
   "outputs": [
    {
     "data": {
      "image/png": "[encoded data removed]",
      "text/plain": [
       "<Figure size 576x432 with 1 Axes>"
      ]
     },
     "metadata": {
      "needs_background": "light"
     },
     "output_type": "display_data"
    }
   ],
   "source": [
    "\n",
    "plt.figure(figsize=(8,6))\n",
    "sns.barplot(x='sex', y='chol', data=df,palette='YlGnBu')\n",
    "plt.title(\"Cholestrol Level Based On Gender\", fontsize=15)\n",
    "plt.xlabel('Gender',fontsize=12)\n",
    "plt.ylabel(\"Cholestrol\", fontsize=12)\n",
    "plt.show()"
   ]
  },
  {
   "cell_type": "markdown",
   "id": "da76027e",
   "metadata": {},
   "source": [
    "#### Females have little bit of higher cholesterol than Males\n"
   ]
  },
  {
   "cell_type": "markdown",
   "id": "423da081",
   "metadata": {},
   "source": [
    "### Bar Plot Creation of Cholestrol VS Heart Disease using MatplotLib and Seaborn\n"
   ]
  },
  {
   "cell_type": "code",
   "execution_count": 29,
   "id": "d5989221",
   "metadata": {},
   "outputs": [
    {
     "data": {
      "image/png": "[encoded data removed]",
      "text/plain": [
       "<Figure size 576x432 with 1 Axes>"
      ]
     },
     "metadata": {
      "needs_background": "light"
     },
     "output_type": "display_data"
    }
   ],
   "source": [
    "\n",
    "plt.figure(figsize=(8,6))\n",
    "sns.barplot(x='num', y='chol', data=df, palette='ocean_r')\n",
    "plt.title('Cholestrol VS Heart Disease', fontsize=15)\n",
    "plt.xlabel('Heart Disease', fontsize=12)\n",
    "plt.ylabel('Cholestrol', fontsize=12)\n",
    "plt.show()\n"
   ]
  },
  {
   "cell_type": "markdown",
   "id": "e97909e8",
   "metadata": {},
   "source": [
    "#### Higher Cholestrol Levels results chances of Heart Disease\n"
   ]
  },
  {
   "cell_type": "markdown",
   "id": "f4408847",
   "metadata": {},
   "source": [
    "### Line Plot Creation of Cholestrol VS Age using MatplotLib and Seaborn\n"
   ]
  },
  {
   "cell_type": "code",
   "execution_count": 30,
   "id": "4368ef94",
   "metadata": {},
   "outputs": [
    {
     "data": {
      "image/png": "[encoded data removed]",
      "text/plain": [
       "<Figure size 576x432 with 1 Axes>"
      ]
     },
     "metadata": {
      "needs_background": "light"
     },
     "output_type": "display_data"
    }
   ],
   "source": [
    "\n",
    "plt.figure(figsize=(8,6))\n",
    "sns.lineplot(x='age', y='chol', data=df, color='b')\n",
    "plt.title('Cholestrol VS Age', fontsize=15)\n",
    "plt.xlabel('Age', fontsize=12)\n",
    "plt.ylabel('Cholestrol', fontsize=12)\n",
    "plt.show()"
   ]
  },
  {
   "cell_type": "markdown",
   "id": "7209c50a",
   "metadata": {},
   "source": [
    "#### We can infer that Cholestrol Level increases with the age  and continues to increase till 65\n"
   ]
  },
  {
   "cell_type": "markdown",
   "id": "6724c801",
   "metadata": {},
   "source": [
    "## Fasting blood sugar distribution according to target variable\n"
   ]
  },
  {
   "cell_type": "code",
   "execution_count": 31,
   "id": "f1d22200",
   "metadata": {},
   "outputs": [
    {
     "data": {
      "text/plain": [
       "Text(0, 0.5, 'Count')"
      ]
     },
     "execution_count": 31,
     "metadata": {},
     "output_type": "execute_result"
    },
    {
     "data": {
      "image/png": "[encoded data removed]",
      "text/plain": [
       "<Figure size 576x432 with 1 Axes>"
      ]
     },
     "metadata": {
      "needs_background": "light"
     },
     "output_type": "display_data"
    }
   ],
   "source": [
    "plt.figure(figsize=(8,6))\n",
    "sns.countplot(x='fbs',hue='num',data=df,palette='Set1_r')\n",
    "plt.title('Gender Distribution according to the Target', fontsize=15)\n",
    "plt.xlabel('fbs',fontsize=12)\n",
    "plt.ylabel('Count',fontsize=12)"
   ]
  },
  {
   "cell_type": "markdown",
   "id": "6e4e4497",
   "metadata": {},
   "source": [
    "#### Fasting blood sugar or fbs is a diabetes indicator with fbs >120 mg/d is considered diabetic (True class)\n",
    "\n",
    "#### we observe that the number for class true, is lower compared to class false\n",
    "\n",
    "#### However,there are higher number of heart disease patient without diabetes.\n",
    "\n",
    "#### hence fbs might not be a strong feature differentiating between heart disease an non-disease patient.\n",
    "\n"
   ]
  },
  {
   "cell_type": "markdown",
   "id": "f98ffc1a",
   "metadata": {},
   "source": [
    "## PLOTTING HEATMAP FOR CORRELATION"
   ]
  },
  {
   "cell_type": "code",
   "execution_count": 32,
   "id": "3af8cdc4",
   "metadata": {},
   "outputs": [
    {
     "data": {
      "text/plain": [
       "<AxesSubplot:>"
      ]
     },
     "execution_count": 32,
     "metadata": {},
     "output_type": "execute_result"
    },
    {
     "data": {
      "image/png": "[encoded data removed]",
      "text/plain": [
       "<Figure size 1008x432 with 2 Axes>"
      ]
     },
     "metadata": {
      "needs_background": "light"
     },
     "output_type": "display_data"
    }
   ],
   "source": [
    "\n",
    "plt.figure(figsize=(14,6))\n",
    "\n",
    "sns.heatmap(df.corr(), annot=True, linewidth=4)"
   ]
  },
  {
   "cell_type": "code",
   "execution_count": 33,
   "id": "dc7f3d8c",
   "metadata": {},
   "outputs": [],
   "source": [
    "df.to_csv('eda_done_healthvare analysis')"
   ]
  },
  {
   "cell_type": "code",
   "execution_count": null,
   "id": "ab959f82",
   "metadata": {},
   "outputs": [],
   "source": []
  }
 ],
 "metadata": {
  "kernelspec": {
   "display_name": "Python 3 (ipykernel)",
   "language": "python",
   "name": "python3"
  },
  "language_info": {
   "codemirror_mode": {
    "name": "ipython",
    "version": 3
   },
   "file_extension": ".py",
   "mimetype": "text/x-python",
   "name": "python",
   "nbconvert_exporter": "python",
   "pygments_lexer": "ipython3",
   "version": "3.9.7"
  }
 },
 "nbformat": 4,
 "nbformat_minor": 5
}
